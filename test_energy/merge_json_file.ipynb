{
 "cells": [
  {
   "cell_type": "code",
   "execution_count": 2,
   "metadata": {},
   "outputs": [],
   "source": [
    "import os\n",
    "import json\n",
    "import tqdm\n",
    "\n",
    "\n",
    "def merge_json(path_results, path_merges):\n",
    "    \"\"\"\n",
    "    主要功能是实现一个目录下的多个json文件合并为一个json文件。\n",
    "    :param path_results:\n",
    "    :param path_merges:\n",
    "    :return:\n",
    "    \"\"\"\n",
    "    merges_file = os.path.join(path_merges, \"133.json\")\n",
    "    with open(merges_file, \"w\", encoding=\"utf-8\") as f0:\n",
    "        for file in os.listdir(path_results):\n",
    "            with open(os.path.join(path_results, file), \"r\", encoding=\"utf-8\") as f1:\n",
    "                for line in tqdm.tqdm(f1):\n",
    "                    line_dict = json.loads(line)\n",
    "                    js = json.dumps(line_dict, ensure_ascii=False)\n",
    "                    f0.write(js + '\\n')\n",
    "                f1.close()\n",
    "        f0.close()\n",
    "\n"
   ]
  },
  {
   "cell_type": "code",
   "execution_count": 3,
   "metadata": {},
   "outputs": [],
   "source": [
    "\n",
    "path_results, path_merges = \"./epoch_json\", \"./\"\n",
    "if not os.path.exists(path_merges):  # 如果results目录不存在，新建该目录。\n",
    "        os.mkdir(path_merges)"
   ]
  },
  {
   "cell_type": "code",
   "execution_count": 4,
   "metadata": {},
   "outputs": [
    {
     "name": "stderr",
     "output_type": "stream",
     "text": [
      "1it [00:02,  2.22s/it]\n",
      "1it [00:02,  2.66s/it]\n",
      "1it [00:02,  2.90s/it]\n",
      "1it [00:02,  2.84s/it]\n",
      "1it [00:02,  2.51s/it]\n",
      "1it [00:02,  2.71s/it]\n",
      "1it [00:02,  2.76s/it]\n",
      "1it [00:02,  2.33s/it]\n",
      "1it [00:02,  2.77s/it]\n",
      "1it [00:02,  2.07s/it]\n",
      "1it [00:02,  2.38s/it]\n",
      "1it [00:02,  2.69s/it]\n",
      "1it [00:02,  2.78s/it]\n",
      "1it [00:09,  9.25s/it]\n",
      "1it [00:02,  2.37s/it]\n",
      "1it [00:02,  2.81s/it]\n",
      "1it [00:03,  3.00s/it]\n",
      "1it [00:02,  2.94s/it]\n",
      "1it [00:03,  3.09s/it]\n",
      "1it [00:02,  2.47s/it]\n",
      "1it [00:02,  2.45s/it]\n",
      "1it [00:02,  2.95s/it]\n",
      "1it [00:02,  2.99s/it]\n",
      "1it [00:02,  2.43s/it]\n",
      "1it [00:02,  2.83s/it]\n",
      "1it [00:02,  2.75s/it]\n",
      "1it [00:02,  2.85s/it]\n",
      "1it [00:02,  2.58s/it]\n",
      "1it [00:02,  2.71s/it]\n",
      "1it [00:02,  2.89s/it]\n",
      "1it [00:02,  2.93s/it]\n",
      "1it [00:02,  2.10s/it]\n",
      "1it [00:02,  2.37s/it]\n",
      "1it [00:02,  2.67s/it]\n",
      "1it [00:02,  2.30s/it]\n",
      "1it [00:02,  2.63s/it]\n",
      "1it [00:02,  2.72s/it]\n",
      "1it [00:02,  2.37s/it]\n",
      "1it [00:03,  3.04s/it]\n",
      "1it [00:02,  2.63s/it]\n",
      "1it [00:02,  2.80s/it]\n",
      "1it [00:03,  3.08s/it]\n",
      "1it [00:03,  3.00s/it]\n",
      "1it [00:02,  2.53s/it]\n",
      "1it [00:03,  3.05s/it]\n",
      "1it [00:02,  2.82s/it]\n",
      "1it [00:06,  6.40s/it]\n",
      "1it [00:02,  2.50s/it]\n",
      "1it [00:02,  2.90s/it]\n",
      "1it [00:02,  2.80s/it]\n",
      "1it [00:02,  2.28s/it]\n"
     ]
    }
   ],
   "source": [
    "merge_json(path_results, path_merges)\n",
    "print(\" merge json files done\")"
   ]
  },
  {
   "cell_type": "code",
   "execution_count": null,
   "metadata": {},
   "outputs": [],
   "source": []
  }
 ],
 "metadata": {
  "kernelspec": {
   "display_name": "Python 3",
   "language": "python",
   "name": "python3"
  },
  "language_info": {
   "codemirror_mode": {
    "name": "ipython",
    "version": 3
   },
   "file_extension": ".py",
   "mimetype": "text/x-python",
   "name": "python",
   "nbconvert_exporter": "python",
   "pygments_lexer": "ipython3",
   "version": "3.6.5"
  }
 },
 "nbformat": 4,
 "nbformat_minor": 2
}
