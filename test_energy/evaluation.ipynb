{
 "cells": [
  {
   "cell_type": "markdown",
   "metadata": {},
   "source": [
    "This file should run in python3 envrionment"
   ]
  },
  {
   "cell_type": "code",
   "execution_count": null,
   "metadata": {},
   "outputs": [],
   "source": [
    "import os\n",
    "import time\n",
    "import sys\n",
    "\n",
    "sys.path.append(os.path.abspath(\"../common\"))\n",
    "\n",
    "import pynq\n",
    "import lpcv_eval\n",
    "\n",
    "team_name = 'sample_team'\n",
    "team = lpcv_eval.Team(team_name, batch_size = 1)"
   ]
  },
  {
   "cell_type": "markdown",
   "metadata": {},
   "source": [
    "Import your processing code"
   ]
  },
  {
   "cell_type": "code",
   "execution_count": null,
   "metadata": {},
   "outputs": [],
   "source": [
    "import utils"
   ]
  },
  {
   "cell_type": "markdown",
   "metadata": {},
   "source": [
    "Run all process"
   ]
  },
  {
   "cell_type": "code",
   "execution_count": null,
   "metadata": {},
   "outputs": [],
   "source": [
    "import cv2\n",
    "\n",
    "interval_time = 0\n",
    "total_time = 0\n",
    "total_energy = 0\n",
    "\n",
    "team.reset_batch_count()\n",
    "rails = pynq.get_rails()"
   ]
  },
  {
   "cell_type": "code",
   "execution_count": null,
   "metadata": {},
   "outputs": [],
   "source": [
    "# Create detector with bit file name and model name\n",
    "# you can replace the default bit file by your own bit\n",
    "detector = utils.Processor(bit_name = \"dpu.bit\", model_name = \"yolov3_tf_ultra96v2-b1600.xmodel\")\n",
    "\n",
    "\n",
    "start = time.time() \n",
    "# 5V power rail is used as an example for full sytem power modify the code below\n",
    "# refer to ultra96_pmbus.ipynb notebook under \n",
    "# /home/xilinx/jupyter_notebooks/common/ultra96_pmbus.ipynb for details on power rails\n",
    "recorder = pynq.DataRecorder(rails[\"5V\"].power) \n",
    "all_results = list()\n",
    "all_images = []\n",
    "with recorder.record(0.05): \n",
    "    while True:\n",
    "        # get a batch of images\n",
    "        image_paths = team.get_next_batch()\n",
    "        if image_paths is None:\n",
    "            break\n",
    "            \n",
    "        batch_images = list()\n",
    "        # run processor and save output  \n",
    "        for image_path in image_paths:\n",
    "            print(\"image_path:\", image_path)\n",
    "            bgr_img = cv2.imread(str(image_path))    \n",
    "            batch_images.append(bgr_img)\n",
    "            all_images.append([image_path, bgr_img])\n",
    "        #batch_result = detector.run_test(batch_images)   \n",
    "        batch_result = detector.run(batch_images)  \n",
    "        print(\"batch result size:\", len(batch_result))\n",
    "        for i in range(len(batch_result)):\n",
    "            all_results.append(batch_result[i])\n",
    "    #time.sleep(10)\n",
    "\n",
    "# timer stop after batch processing is complete\n",
    "end = time.time()\n",
    "t = end - start\n",
    "\n",
    "total_time = t\n",
    "\n",
    "#print('All processing time: {} seconds.'.format(total_time))\n",
    "print(\"all results size:\", len(all_results))\n",
    "\n",
    "# Energy measurements    \n",
    "energy = recorder.frame[\"5V_power\"].mean() * t    \n",
    "\n",
    "total_energy = energy\n",
    "print(\"Total time:\", total_time, \"seconds\")\n",
    "print(\"Total energy:\", total_energy, \"J\")"
   ]
  },
  {
   "cell_type": "code",
   "execution_count": null,
   "metadata": {},
   "outputs": [],
   "source": [
    "# Format results and save\n",
    "save_results = []\n",
    "for i in range(len(all_results)):\n",
    "    for j in range(len(all_results[i])):\n",
    "        label = all_results[i][j][4]\n",
    "        score = all_results[i][j][5]\n",
    "        x = all_results[i][j][0] * all_images[i][1].shape[1] + 1\n",
    "        y = all_results[i][j][1] * all_images[i][1].shape[0] + 1\n",
    "        width = all_results[i][j][2] * all_images[i][1].shape[1]\n",
    "        height = all_results[i][j][3] * all_images[i][1].shape[0]\n",
    "        #print(\"result[\", i, \"][\", j, \"] name:\", all_images[i][0], \"label:\", label, \", score:\", score, \", bbox:\", x, y, width, height)\n",
    "        image_id = str(all_images[i][0]).split('/')[-1].split('.')[0]\n",
    "        save_results.append([image_id, x, y, width, height, label, score])\n",
    "    \n",
    "# team.save_results_xml(save_results, total_time, total_energy)\n",
    "# save results to json file for test accuracy\n",
    "team.save_results_json(save_results)\n",
    "print(\"save result done!\")"
   ]
  }
 ],
 "metadata": {
  "kernelspec": {
   "display_name": "Python 3",
   "language": "python",
   "name": "python3"
  },
  "language_info": {
   "codemirror_mode": {
    "name": "ipython",
    "version": 3
   },
   "file_extension": ".py",
   "mimetype": "text/x-python",
   "name": "python",
   "nbconvert_exporter": "python",
   "pygments_lexer": "ipython3",
   "version": "3.6.5"
  }
 },
 "nbformat": 4,
 "nbformat_minor": 4
}
